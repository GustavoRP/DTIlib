{
 "cells": [
  {
   "cell_type": "code",
   "execution_count": null,
   "metadata": {
    "collapsed": true
   },
   "outputs": [],
   "source": [
    "def load_fa_evl_et(BASE_PATH):\n",
    "    import nibabel as ni\n",
    "    import numpy as np\n",
    "\n",
    "    #-------------------------------------------------------\n",
    "    FA_PATH = \"%s%s\" % ( BASE_PATH, '/dti_FA.nii.gz' )\n",
    "\n",
    "    L1_PATH = \"%s%s\" % ( BASE_PATH, '/dti_L1.nii.gz' )\n",
    "    L2_PATH = \"%s%s\" % ( BASE_PATH, '/dti_L2.nii.gz' )\n",
    "    L3_PATH = \"%s%s\" % ( BASE_PATH, '/dti_L3.nii.gz' )\n",
    "\n",
    "    V1_PATH = \"%s%s\" % ( BASE_PATH, '/dti_V1.nii.gz' )\n",
    "    V2_PATH = \"%s%s\" % ( BASE_PATH, '/dti_V2.nii.gz' )\n",
    "    V3_PATH = \"%s%s\" % ( BASE_PATH, '/dti_V3.nii.gz' )\n",
    "    #-------------------------------------------------------\n",
    "    FA = ni.load(FA_PATH).get_data()\n",
    "    print('FA Loaded')\n",
    "\n",
    "    L1 = ni.load(L1_PATH).get_data()\n",
    "    L2 = ni.load(L2_PATH).get_data()\n",
    "    L3 = ni.load(L3_PATH).get_data()\n",
    "\n",
    "    V1 = ni.load(V1_PATH).get_data()\n",
    "    V2 = ni.load(V2_PATH).get_data()\n",
    "    V3 = ni.load(V3_PATH).get_data()\n",
    "    #-------------------------------------------------------\n",
    "    fa = np.swapaxes(FA,0,2)\n",
    "\n",
    "    l1 = np.swapaxes(L1,0,2)\n",
    "\n",
    "    l2 = np.swapaxes(L2,0,2)\n",
    "\n",
    "    l3 = np.swapaxes(L3,0,2)\n",
    "    #-------------------------------------------------------\n",
    "    v1 = np.swapaxes(V1,0,3)\n",
    "    v1 = np.swapaxes(v1,1,2)\n",
    "    v1[:,:,:,:] = v1[::-1,:,:,:]\n",
    "\n",
    "    v2 = np.swapaxes(V2,0,3)\n",
    "    v2 = np.swapaxes(v2,1,2)\n",
    "    v2[:,:,:,:] = v2[::-1,:,:,:]\n",
    "\n",
    "    v3 = np.swapaxes(V3,0,3)\n",
    "    v3 = np.swapaxes(v3,1,2)\n",
    "    #-------------------------------------------------------\n",
    "\n",
    "    evl = np.array([l1,l2,l3])\n",
    "    evt = np.array([v1,v2,v3])\n",
    "\n",
    "\n",
    "    return fa, evl, evt"
   ]
  }
 ],
 "metadata": {
  "kernelspec": {
   "display_name": "Python [conda env:py2]",
   "language": "python",
   "name": "conda-env-py2-py"
  },
  "language_info": {
   "codemirror_mode": {
    "name": "ipython",
    "version": 2
   },
   "file_extension": ".py",
   "mimetype": "text/x-python",
   "name": "python",
   "nbconvert_exporter": "python",
   "pygments_lexer": "ipython2",
   "version": "2.7.12"
  }
 },
 "nbformat": 4,
 "nbformat_minor": 1
}
